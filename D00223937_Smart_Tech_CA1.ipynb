{
  "cells": [
    {
      "cell_type": "markdown",
      "metadata": {
        "id": "view-in-github",
        "colab_type": "text"
      },
      "source": [
        "<a href=\"https://colab.research.google.com/github/ChiaHouTan/smarttechca1/blob/main/D00223937_Smart_Tech_CA1.ipynb\" target=\"_parent\"><img src=\"https://colab.research.google.com/assets/colab-badge.svg\" alt=\"Open In Colab\"/></a>"
      ]
    },
    {
      "cell_type": "code",
      "source": [
        "!git clone https://github.com/ChiaHouTan/smarttechca1.git"
      ],
      "metadata": {
        "colab": {
          "base_uri": "https://localhost:8080/"
        },
        "id": "yftadowTWln6",
        "outputId": "48b14e98-f64b-41af-aafb-5fda7dd5eac6"
      },
      "execution_count": 1,
      "outputs": [
        {
          "output_type": "stream",
          "name": "stdout",
          "text": [
            "Cloning into 'smarttechca1'...\n",
            "remote: Enumerating objects: 36, done.\u001b[K\n",
            "remote: Counting objects: 100% (25/25), done.\u001b[K\n",
            "remote: Compressing objects: 100% (18/18), done.\u001b[K\n",
            "remote: Total 36 (delta 7), reused 21 (delta 4), pack-reused 11\u001b[K\n",
            "Receiving objects: 100% (36/36), 188.92 MiB | 27.59 MiB/s, done.\n",
            "Resolving deltas: 100% (7/7), done.\n",
            "Updating files: 100% (15/15), done.\n"
          ]
        }
      ]
    },
    {
      "cell_type": "code",
      "execution_count": 64,
      "metadata": {
        "id": "NhFuT3pd8A6s"
      },
      "outputs": [],
      "source": [
        "import numpy as np\n",
        "import matplotlib.pyplot as plt\n",
        "import keras\n",
        "from keras.models import Sequential\n",
        "from keras.layers import Dense, Dropout, Flatten\n",
        "from keras.optimizers import Adam\n",
        "from keras.utils import to_categorical\n",
        "from keras.layers import Conv2D, MaxPooling2D\n",
        "from keras.preprocessing.image import ImageDataGenerator\n",
        "import pickle\n",
        "import pandas as pd\n",
        "import random\n",
        "import cv2\n",
        "import requests\n",
        "from PIL import Image\n",
        "\n",
        "#git add .\n",
        "#git status\n",
        "#git commit -m \"First Commit\" then after finish everything do below\n",
        "#git branch -M main\n",
        "#git push -uf origin main\n",
        "\n",
        "np.random.seed(0)\n",
        "\n",
        "def unpickle_data():\n",
        "  trains_data = []\n",
        "  file_paths = ['/content/smarttechca1/cifar-10/data_batch_1',\n",
        "                 '/content/smarttechca1/cifar-10/data_batch_2',\n",
        "                 '/content/smarttechca1/cifar-10/data_batch_3',\n",
        "                 '/content/smarttechca1/cifar-10/data_batch_4',\n",
        "                 '/content/smarttechca1/cifar-10/data_batch_5']\n",
        "  for file_path in file_paths:\n",
        "         with open(file_path, 'rb') as f:\n",
        "             train_data = pickle.load(f, encoding='bytes')\n",
        "             trains_data.append(train_data)\n",
        "  with open('/content/smarttechca1/cifar-10/test_batch', 'rb') as f:\n",
        "    test_data = pickle.load(f, encoding='bytes')\n",
        "  return trains_data, test_data"
      ]
    },
    {
      "cell_type": "code",
      "source": [
        "trains_data, test_data = unpickle_data()\n",
        "X_train = np.concatenate([train_data[b'data'] for train_data in trains_data])\n",
        "y_train = np.concatenate([train_data[b'labels'] for train_data in trains_data])\n",
        "X_test, y_test = test_data[b'data'], test_data[b'labels']"
      ],
      "metadata": {
        "id": "Cof7KyQ9M29l"
      },
      "execution_count": 65,
      "outputs": []
    },
    {
      "cell_type": "code",
      "source": [
        "print(X_train.shape)\n",
        "print(X_test.shape)"
      ],
      "metadata": {
        "id": "16NIcj23M5St",
        "colab": {
          "base_uri": "https://localhost:8080/"
        },
        "outputId": "3f56f25f-e40e-4703-8881-0ce7e6794580"
      },
      "execution_count": 66,
      "outputs": [
        {
          "output_type": "stream",
          "name": "stdout",
          "text": [
            "(50000, 3072)\n",
            "(10000, 3072)\n"
          ]
        }
      ]
    }
  ],
  "metadata": {
    "accelerator": "GPU",
    "colab": {
      "gpuType": "T4",
      "provenance": [],
      "include_colab_link": true
    },
    "kernelspec": {
      "display_name": "Python 3",
      "name": "python3"
    },
    "language_info": {
      "codemirror_mode": {
        "name": "ipython",
        "version": 3
      },
      "file_extension": ".py",
      "mimetype": "text/x-python",
      "name": "python",
      "nbconvert_exporter": "python",
      "pygments_lexer": "ipython3",
      "version": "3.11.6"
    }
  },
  "nbformat": 4,
  "nbformat_minor": 0
}